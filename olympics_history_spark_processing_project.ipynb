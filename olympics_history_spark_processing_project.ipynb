{
 "cells": [
  {
   "cell_type": "code",
   "execution_count": 3,
   "id": "4c42a7c5-0b05-4059-9d79-633def349b28",
   "metadata": {},
   "outputs": [],
   "source": [
    "## Spark conf\n",
    "from pyspark import SparkConf\n",
    "from pyspark.sql import  SparkSession\n",
    "from pyspark.sql import functions as F\n",
    "from pyspark.sql import Window\n",
    "from pyspark.sql.types import StructType, StructField, StringType, IntegerType"
   ]
  },
  {
   "cell_type": "code",
   "execution_count": 4,
   "id": "f1eb44f1-4d47-461a-86cd-2bf534023964",
   "metadata": {},
   "outputs": [
    {
     "data": {
      "text/plain": [
       "<pyspark.conf.SparkConf at 0x27a5a7a3ef0>"
      ]
     },
     "execution_count": 4,
     "metadata": {},
     "output_type": "execute_result"
    }
   ],
   "source": [
    "sparkConf = SparkConf()\n",
    "sparkConf.setAll(\n",
    "    [\n",
    "        (\"spark.app.name\", \"olmypics spark app\"),\n",
    "        (\"spark.master\", \"local[3]\")\n",
    "    ]\n",
    ")"
   ]
  },
  {
   "cell_type": "code",
   "execution_count": 5,
   "id": "b3b00919-f7de-4b8e-9a03-00e026b4284a",
   "metadata": {},
   "outputs": [],
   "source": [
    "spark = SparkSession.builder.config(conf=sparkConf).getOrCreate()"
   ]
  },
  {
   "cell_type": "markdown",
   "id": "3c8b7844-0e6b-4cb0-841c-8274a711c741",
   "metadata": {},
   "source": [
    "## Loading data"
   ]
  },
  {
   "cell_type": "code",
   "execution_count": 6,
   "id": "76c8fe59-4418-4214-ad47-370b326227b7",
   "metadata": {},
   "outputs": [],
   "source": [
    "athletesSchema = StructType(\n",
    "    [\n",
    "        StructField(\"id\", IntegerType(), False),\n",
    "        StructField(\"name\", StringType(), False),\n",
    "        StructField(\"sex\", StringType(), False),\n",
    "        StructField(\"height\", IntegerType(), True),\n",
    "        StructField(\"weight\", IntegerType(), True),\n",
    "        StructField(\"team\", StringType(), False)\n",
    "    ]\n",
    ")\n",
    "# id,name,sex,height,weight,team"
   ]
  },
  {
   "cell_type": "code",
   "execution_count": 7,
   "id": "6056270e-5f32-411c-aa53-c1deed289039",
   "metadata": {},
   "outputs": [],
   "source": [
    "athletes_df = spark.read.format(\"csv\").option(\"header\", True).schema(athletesSchema).option(\"enforceSchema\", True).option(\"path\", r\"D:\\SQL telegram\\Project 2 olympic history\\athletes.csv\").load()"
   ]
  },
  {
   "cell_type": "code",
   "execution_count": 8,
   "id": "65121786-4914-4dfb-a141-2b4a83fcdb35",
   "metadata": {},
   "outputs": [
    {
     "name": "stdout",
     "output_type": "stream",
     "text": [
      "+---+------------------------+---+------+------+--------------+\n",
      "|id |name                    |sex|height|weight|team          |\n",
      "+---+------------------------+---+------+------+--------------+\n",
      "|1  |A Dijiang               |M  |180   |80    |China         |\n",
      "|2  |A Lamusi                |M  |170   |60    |China         |\n",
      "|3  |Gunnar Nielsen Aaby     |M  |NULL  |NULL  |Denmark       |\n",
      "|4  |Edgar Lindenau Aabye    |M  |NULL  |NULL  |Denmark/Sweden|\n",
      "|5  |Christine Jacoba Aaftink|F  |185   |82    |Netherlands   |\n",
      "+---+------------------------+---+------+------+--------------+\n",
      "only showing top 5 rows\n",
      "\n"
     ]
    }
   ],
   "source": [
    "athletes_df.show(5, truncate=False)"
   ]
  },
  {
   "cell_type": "code",
   "execution_count": 9,
   "id": "35b87cb1-1be3-4a85-85b1-d38156718b1f",
   "metadata": {},
   "outputs": [],
   "source": [
    "athletes_processed_df = athletes_df.filter(\"team is not null\").cache()"
   ]
  },
  {
   "cell_type": "code",
   "execution_count": 10,
   "id": "ef72d9f3-8fdd-411e-a52f-93485d2f6740",
   "metadata": {},
   "outputs": [
    {
     "name": "stdout",
     "output_type": "stream",
     "text": [
      "root\n",
      " |-- id: integer (nullable = true)\n",
      " |-- name: string (nullable = true)\n",
      " |-- sex: string (nullable = true)\n",
      " |-- height: integer (nullable = true)\n",
      " |-- weight: integer (nullable = true)\n",
      " |-- team: string (nullable = true)\n",
      "\n",
      "None\n"
     ]
    },
    {
     "data": {
      "text/plain": [
       "['id', 'name', 'sex', 'height', 'weight', 'team']"
      ]
     },
     "execution_count": 10,
     "metadata": {},
     "output_type": "execute_result"
    }
   ],
   "source": [
    "print(athletes_processed_df.printSchema())\n",
    "athletes_processed_df.columns"
   ]
  },
  {
   "cell_type": "code",
   "execution_count": 11,
   "id": "2a4daa79-a8d1-4197-a5dc-092f2380b8eb",
   "metadata": {
    "scrolled": true
   },
   "outputs": [
    {
     "name": "stdout",
     "output_type": "stream",
     "text": [
      "+---+------------------------+---+------+------+--------------+\n",
      "|id |name                    |sex|height|weight|team          |\n",
      "+---+------------------------+---+------+------+--------------+\n",
      "|1  |A Dijiang               |M  |180   |80    |China         |\n",
      "|2  |A Lamusi                |M  |170   |60    |China         |\n",
      "|3  |Gunnar Nielsen Aaby     |M  |NULL  |NULL  |Denmark       |\n",
      "|4  |Edgar Lindenau Aabye    |M  |NULL  |NULL  |Denmark/Sweden|\n",
      "|5  |Christine Jacoba Aaftink|F  |185   |82    |Netherlands   |\n",
      "+---+------------------------+---+------+------+--------------+\n",
      "only showing top 5 rows\n",
      "\n"
     ]
    }
   ],
   "source": [
    "athletes_processed_df.show(5, truncate=False)"
   ]
  },
  {
   "cell_type": "code",
   "execution_count": 12,
   "id": "38a237f9-a592-4dad-b02b-fbe7dd7ad68c",
   "metadata": {},
   "outputs": [
    {
     "data": {
      "text/plain": [
       "['id', 'name', 'sex', 'height', 'weight', 'team']"
      ]
     },
     "execution_count": 12,
     "metadata": {},
     "output_type": "execute_result"
    }
   ],
   "source": [
    "athletes_processed_df.columns"
   ]
  },
  {
   "cell_type": "code",
   "execution_count": 13,
   "id": "ba38f67a-1457-4ece-809e-c61abe115650",
   "metadata": {},
   "outputs": [
    {
     "name": "stdout",
     "output_type": "stream",
     "text": [
      "+-------------+---------------+--------------+-----------------+-----------------+---------------+\n",
      "|id_null_count|name_null_count|sex_null_count|height_null_count|weight_null_count|team_null_count|\n",
      "+-------------+---------------+--------------+-----------------+-----------------+---------------+\n",
      "|            0|              0|             0|            34082|            35191|              0|\n",
      "+-------------+---------------+--------------+-----------------+-----------------+---------------+\n",
      "\n"
     ]
    }
   ],
   "source": [
    "athletes_processed_df.select([F.count(F.when(F.col(c).isNull(), c)).alias(f\"{c}_null_count\") for c in athletes_processed_df.columns]).show()"
   ]
  },
  {
   "cell_type": "code",
   "execution_count": 14,
   "id": "995cbc62-5e7d-46b0-8791-22d8ae3998c5",
   "metadata": {},
   "outputs": [],
   "source": [
    "athlete_events_df = spark.read.format(\"csv\").option(\"header\", True).option(\"inferSchema\", True).option(\"path\", r\"D:\\SQL telegram\\Project 2 olympic history\\athlete_events.csv\").load()\n",
    "athlete_events_processed_df = athlete_events_df.drop_duplicates().cache()"
   ]
  },
  {
   "cell_type": "code",
   "execution_count": 15,
   "id": "70dbd095-40dc-41c3-8750-8c0172a7b2c4",
   "metadata": {
    "scrolled": true
   },
   "outputs": [
    {
     "name": "stdout",
     "output_type": "stream",
     "text": [
      "root\n",
      " |-- athlete_id: integer (nullable = true)\n",
      " |-- games: string (nullable = true)\n",
      " |-- year: integer (nullable = true)\n",
      " |-- season: string (nullable = true)\n",
      " |-- city: string (nullable = true)\n",
      " |-- sport: string (nullable = true)\n",
      " |-- event: string (nullable = true)\n",
      " |-- medal: string (nullable = true)\n",
      "\n"
     ]
    }
   ],
   "source": [
    "athlete_events_processed_df.printSchema()"
   ]
  },
  {
   "cell_type": "code",
   "execution_count": 16,
   "id": "7392032c-62d5-4720-90df-675cee1a78f1",
   "metadata": {
    "scrolled": true
   },
   "outputs": [
    {
     "name": "stdout",
     "output_type": "stream",
     "text": [
      "+---------------------+----------------+---------------+-----------------+---------------+----------------+----------------+----------------+\n",
      "|athlete_id_null_count|games_null_count|year_null_count|season_null_count|city_null_count|sport_null_count|event_null_count|medal_null_count|\n",
      "+---------------------+----------------+---------------+-----------------+---------------+----------------+----------------+----------------+\n",
      "|                    0|               0|              0|                0|              0|               0|               0|               0|\n",
      "+---------------------+----------------+---------------+-----------------+---------------+----------------+----------------+----------------+\n",
      "\n"
     ]
    }
   ],
   "source": [
    "athlete_events_processed_df.select([F.count(F.when(F.col(c).isNull(), c)).alias(f\"{c}_null_count\") for c in athlete_events_processed_df.columns]).show()"
   ]
  },
  {
   "cell_type": "markdown",
   "id": "40de6f39-5d67-414f-9bfe-c080de24170e",
   "metadata": {},
   "source": [
    "## Processing"
   ]
  },
  {
   "cell_type": "markdown",
   "id": "9b737405-9c55-4194-8e0d-5f259fe5a9c0",
   "metadata": {},
   "source": [
    "#### which team has won the maximum gold medals over the years."
   ]
  },
  {
   "cell_type": "code",
   "execution_count": 17,
   "id": "ab820c97-54c9-4184-91fa-d15e9e9d9f4e",
   "metadata": {},
   "outputs": [],
   "source": [
    "joined_athletes_and_events_df = athlete_events_processed_df.join(athletes_processed_df, athletes_processed_df.id==athlete_events_df.athlete_id, \"right\")"
   ]
  },
  {
   "cell_type": "code",
   "execution_count": 18,
   "id": "fb8f4958-37a3-4773-a362-54ec791f9f0d",
   "metadata": {},
   "outputs": [
    {
     "data": {
      "text/plain": [
       "DataFrame[athlete_id: int, games: string, year: int, season: string, city: string, sport: string, event: string, medal: string, id: int, name: string, sex: string, height: int, weight: int, team: string]"
      ]
     },
     "execution_count": 18,
     "metadata": {},
     "output_type": "execute_result"
    }
   ],
   "source": [
    "joined_athletes_and_events_df.cache()"
   ]
  },
  {
   "cell_type": "code",
   "execution_count": 19,
   "id": "aa7f586d-422f-4d13-80b9-9130c24af283",
   "metadata": {
    "scrolled": true
   },
   "outputs": [
    {
     "name": "stdout",
     "output_type": "stream",
     "text": [
      "+-------------+-----------+\n",
      "|         team|medal_count|\n",
      "+-------------+-----------+\n",
      "|United States|       5131|\n",
      "| Soviet Union|       2604|\n",
      "|      Germany|       1887|\n",
      "|Great Britain|       1698|\n",
      "|       France|       1558|\n",
      "+-------------+-----------+\n",
      "\n"
     ]
    }
   ],
   "source": [
    "joined_athletes_and_events_df.select(\"team\", \"medal\").filter(F.col(\"medal\") != \"NA\").groupBy(\"team\").agg(F.count(\"medal\").alias(\"medal_count\")).orderBy(F.col(\"medal_count\").desc()).limit(5).show()"
   ]
  },
  {
   "cell_type": "code",
   "execution_count": 20,
   "id": "32cbdd80-bf37-4684-91a4-625562c7a819",
   "metadata": {},
   "outputs": [
    {
     "name": "stdout",
     "output_type": "stream",
     "text": [
      "200\n",
      "2\n",
      "200\n"
     ]
    }
   ],
   "source": [
    "print(athlete_events_processed_df.rdd.getNumPartitions())\n",
    "print(athletes_processed_df.rdd.getNumPartitions())\n",
    "print(joined_athletes_and_events_df.rdd.getNumPartitions())"
   ]
  },
  {
   "cell_type": "markdown",
   "id": "78d7a219-2e77-4881-a0c9-d0b75dd6780f",
   "metadata": {},
   "source": [
    "#### for each team print total silver medals and year in which they won maximum silver medal..output 3 columns\n",
    "#### team,total_silver_medals, year_of_max_silver"
   ]
  },
  {
   "cell_type": "code",
   "execution_count": 21,
   "id": "72991c8c-c55a-49c7-8ab7-94117aea93b3",
   "metadata": {},
   "outputs": [],
   "source": [
    "year_of_max_silver_wind = Window.partitionBy(\"team\").orderBy(F.desc(\"silver_medal_count\"))"
   ]
  },
  {
   "cell_type": "code",
   "execution_count": 22,
   "id": "bb9ea3ba-2c26-4084-b0e7-5b7049897a86",
   "metadata": {},
   "outputs": [],
   "source": [
    "team_wise_silver_df = joined_athletes_and_events_df.select(\"team\", \"year\", \"medal\")\\\n",
    "    .filter(F.col(\"medal\") == \"Silver\")\\\n",
    "    .groupBy(\"team\", \"year\")\\\n",
    "    .agg(F.count(\"medal\").alias(\"silver_medal_count\"))\\\n",
    "    .withColumn(\"year_of_max_silver\", F.first_value(\"year\").over(year_of_max_silver_wind))\\\n",
    "    .groupBy(\"team\")\\\n",
    "    .agg(F.sum(\"silver_medal_count\").alias(\"total_silver_medals\"), F.min(\"year_of_max_silver\").alias(\"year_of_max_silver\"))"
   ]
  },
  {
   "cell_type": "code",
   "execution_count": 23,
   "id": "2e069ba1-a9c0-437c-90d7-89a73bba055f",
   "metadata": {},
   "outputs": [
    {
     "name": "stdout",
     "output_type": "stream",
     "text": [
      "+--------------+-------------------+------------------+\n",
      "|team          |total_silver_medals|year_of_max_silver|\n",
      "+--------------+-------------------+------------------+\n",
      "|United States |1507               |1984              |\n",
      "|Soviet Union  |766                |1980              |\n",
      "|Germany       |603                |1936              |\n",
      "|Great Britain |590                |1908              |\n",
      "|France        |524                |1920              |\n",
      "|Italy         |507                |2016              |\n",
      "|Sweden        |479                |1912              |\n",
      "|Australia     |453                |2004              |\n",
      "|Canada        |405                |1984              |\n",
      "|China         |332                |1996              |\n",
      "|Norway        |330                |1920              |\n",
      "|Hungary       |329                |1972              |\n",
      "|East Germany  |325                |1980              |\n",
      "|Netherlands   |319                |2004              |\n",
      "|Japan         |307                |2012              |\n",
      "|Russia        |291                |2000              |\n",
      "|Finland       |263                |2006              |\n",
      "|Spain         |242                |2008              |\n",
      "|Czechoslovakia|234                |1964              |\n",
      "|South Korea   |223                |1996              |\n",
      "+--------------+-------------------+------------------+\n",
      "only showing top 20 rows\n",
      "\n"
     ]
    }
   ],
   "source": [
    "team_wise_silver_df.orderBy(F.desc(\"total_silver_medals\")).show(truncate=False)"
   ]
  },
  {
   "cell_type": "markdown",
   "id": "72e43d82-6c0a-4add-a434-676eb2787319",
   "metadata": {},
   "source": [
    "#### which player has won maximum gold medals  amongst the players \n",
    "#### which have won only gold medal (never won silver or bronze) over the years"
   ]
  },
  {
   "cell_type": "code",
   "execution_count": 24,
   "id": "1fa5a0d7-daba-4394-97da-97dae4ea663e",
   "metadata": {},
   "outputs": [],
   "source": [
    "athlete_with_silver_or_bronze = athlete_events_processed_df.where(F.col(\"medal\").isin(\"Silver\", \"Bronze\")).select(\"athlete_id\")"
   ]
  },
  {
   "cell_type": "code",
   "execution_count": 25,
   "id": "03ba48f0-c128-4d59-9a8b-f6bf13323038",
   "metadata": {},
   "outputs": [],
   "source": [
    "result = athlete_with_silver_or_bronze.collect()\n",
    "temp = set([result[i].asDict()[\"athlete_id\"] for i in range(len(result))])"
   ]
  },
  {
   "cell_type": "code",
   "execution_count": 26,
   "id": "97d8b35b-9c3f-43c1-aaf2-bcd8cb188306",
   "metadata": {
    "scrolled": true
   },
   "outputs": [],
   "source": [
    "athlete_with_gold_only = athlete_events_processed_df.select(\"athlete_id\", \"medal\")\\\n",
    "    .where((F.col(\"medal\") == \"Gold\") & (~F.col(\"athlete_id\").isin(temp)))"
   ]
  },
  {
   "cell_type": "code",
   "execution_count": 27,
   "id": "286fbc12-7e56-49ad-9baa-7699e4bdda56",
   "metadata": {},
   "outputs": [
    {
     "data": {
      "text/plain": [
       "DataFrame[athlete_id: int, medal: string]"
      ]
     },
     "execution_count": 27,
     "metadata": {},
     "output_type": "execute_result"
    }
   ],
   "source": [
    "athlete_with_gold_only.cache()"
   ]
  },
  {
   "cell_type": "code",
   "execution_count": 28,
   "id": "803ed9ab-f58b-4c91-9677-e0f970a5350d",
   "metadata": {},
   "outputs": [],
   "source": [
    "athlete_with_max_gold_over_years = athlete_with_gold_only.groupBy(\"athlete_id\").agg(F.count(\"medal\").alias(\"gold_count\")).orderBy(F.desc(\"gold_count\")).limit(3)"
   ]
  },
  {
   "cell_type": "code",
   "execution_count": 29,
   "id": "74cff253-0632-48c8-b64a-349f98cac706",
   "metadata": {},
   "outputs": [
    {
     "name": "stdout",
     "output_type": "stream",
     "text": [
      "+----------+----------+\n",
      "|athlete_id|gold_count|\n",
      "+----------+----------+\n",
      "|     33557|        10|\n",
      "|     13029|         8|\n",
      "|     84026|         6|\n",
      "+----------+----------+\n",
      "\n"
     ]
    }
   ],
   "source": [
    "athlete_with_max_gold_over_years.show()"
   ]
  },
  {
   "cell_type": "code",
   "execution_count": null,
   "id": "2ab86a20-72e1-43f3-97b5-289c6e38ee16",
   "metadata": {},
   "outputs": [],
   "source": []
  },
  {
   "cell_type": "markdown",
   "id": "862038c1-9be1-422a-9153-915896c85ea0",
   "metadata": {},
   "source": [
    "#### in each year which player has won maximum gold medal. Write a query to print year,player name \n",
    "#### and no of golds won in that year . In case of a tie print comma separated player names."
   ]
  },
  {
   "cell_type": "code",
   "execution_count": 30,
   "id": "5d0d7920-960a-4640-8a52-011bb6096fc8",
   "metadata": {},
   "outputs": [],
   "source": [
    "gold_ranker_wind = Window.partitionBy(\"year\").orderBy(F.desc(\"gold_medal_count\"))"
   ]
  },
  {
   "cell_type": "code",
   "execution_count": 31,
   "id": "40689008-c26a-4c0f-84cf-8ece4df957e4",
   "metadata": {},
   "outputs": [],
   "source": [
    "player_with_max_gold = joined_athletes_and_events_df.where(F.col(\"medal\") == \"Gold\").select(\"athlete_id\", \"name\", \"year\", \"medal\")\\\n",
    "    .groupBy(\"year\", \"athlete_id\", \"name\")\\\n",
    "    .agg(F.count(\"medal\").alias(\"gold_medal_count\"))\\\n",
    "    .withColumn(\"gold_ranker\", F.dense_rank().over(gold_ranker_wind))\\\n",
    "    .where(F.col(\"gold_ranker\") == 1)\\\n",
    "    .groupBy(\"year\", \"gold_medal_count\").agg(F.concat_ws(\", \", F.collect_list(F.col(\"name\"))).alias(\"player_name\"))\\\n",
    "    .select(\"year\",\"player_name\", \"gold_medal_count\")"
   ]
  },
  {
   "cell_type": "code",
   "execution_count": 32,
   "id": "b992505f-b6bd-43d2-b855-ed88339e2f94",
   "metadata": {
    "scrolled": true
   },
   "outputs": [
    {
     "name": "stdout",
     "output_type": "stream",
     "text": [
      "+----+-----------------------------------------------------------------------------------------------------------------------------------+----------------+\n",
      "|year|player_name                                                                                                                        |gold_medal_count|\n",
      "+----+-----------------------------------------------------------------------------------------------------------------------------------+----------------+\n",
      "|1896|Carl Schuhmann                                                                                                                     |4               |\n",
      "|1900|\"Alvin Christian \"\"Al\"\" Kraenzlein\"                                                                                                |4               |\n",
      "|1904|Anton Heida                                                                                                                        |5               |\n",
      "|1906|Francesco Verri, Emilio Fontanella, Giorgio Cesana, \"Maxime Omer Mathieu \"\"Max\"\" Omer-Dcugis\", Enrico Bruna, Louis Marcel Richardet|3               |\n",
      "|1908|\"Melvin Winfield \"\"Mel\"\" Sheppard\", Henry Taylor                                                                                   |3               |\n",
      "|1912|\"Alfred Page \"\"Al\"\" Lane\", Gustaf Vilhelm Carlberg, \"Johan Pietari \"\"Hannes\"\" Kolehmainen\"                                         |3               |\n",
      "|1920|Willis Augustus Lee, Jr., Nedo Nadi                                                                                                |5               |\n",
      "|1924|Paavo Johannes Nurmi                                                                                                               |5               |\n",
      "|1928|\"Georg \"\"Georges\"\" Miez\"                                                                                                           |3               |\n",
      "|1932|Helene Emma Madison, Romeo Neri                                                                                                    |3               |\n",
      "|1936|\"James Cleveland \"\"Jesse\"\" Owens\"                                                                                                  |4               |\n",
      "|1948|\"Francina Elsje \"\"Fanny\"\" Blankers-Koen\"                                                                                           |4               |\n",
      "|1952|Viktor Ivanovych Chukarin                                                                                                          |4               |\n",
      "|1956|Larysa Semenivna Latynina (Diriy-), gnes Keleti-Srkny (Klein)                                                                      |4               |\n",
      "|1960|Borys Anfiyanovych Shakhlin                                                                                                        |4               |\n",
      "|1964|\"Donald Arthur \"\"Don\"\" Schollander\", Lidiya Pavlovna Skoblikova (-Polozkova)                                                       |4               |\n",
      "|1968|Akinori Nakayama, Vra slavsk (-Odloilov)                                                                                           |4               |\n",
      "|1972|Mark Andrew Spitz                                                                                                                  |7               |\n",
      "|1976|Nikolay Yefimovich Andrianov, Kornelia Ender (-Matthes, -Grummt), John Phillips Naber                                              |4               |\n",
      "|1980|Eric Arthur Heiden                                                                                                                 |5               |\n",
      "+----+-----------------------------------------------------------------------------------------------------------------------------------+----------------+\n",
      "only showing top 20 rows\n",
      "\n"
     ]
    }
   ],
   "source": [
    "player_with_max_gold.show(truncate=False)"
   ]
  },
  {
   "cell_type": "markdown",
   "id": "53b42537-cb40-49a3-b8f0-82ea6886a130",
   "metadata": {},
   "source": [
    "#### in which event and year India has won its first gold medal,first silver medal and first bronze medal\n",
    "#### print 3 columns medal,year,sport"
   ]
  },
  {
   "cell_type": "code",
   "execution_count": 33,
   "id": "b4a3bcf3-2b48-4187-a910-81987769e3ea",
   "metadata": {},
   "outputs": [
    {
     "name": "stdout",
     "output_type": "stream",
     "text": [
      "+-----+------+----+---------+\n",
      "| team| medal|year|    sport|\n",
      "+-----+------+----+---------+\n",
      "|India|Bronze|1952|Wrestling|\n",
      "|India|  Gold|1924| Alpinism|\n",
      "|India|Silver|1900|Athletics|\n",
      "+-----+------+----+---------+\n",
      "\n"
     ]
    }
   ],
   "source": [
    "joined_athletes_and_events_df.where((F.col(\"team\") == \"India\") & (F.col(\"medal\") != \"NA\"))\\\n",
    "    .withColumn(\"medal_year\", F.dense_rank().over(Window.partitionBy(\"medal\").orderBy(\"year\")))\\\n",
    "    .where(F.col(\"medal_year\") == 1)\\\n",
    "    .select(\"team\", \"medal\", \"year\", \"sport\").distinct().show()"
   ]
  },
  {
   "cell_type": "markdown",
   "id": "9c73f400-51ec-4ab4-a35a-c46d0c2fb7ef",
   "metadata": {},
   "source": [
    "#### find players who won gold medal in summer and winter olympics both."
   ]
  },
  {
   "cell_type": "code",
   "execution_count": 34,
   "id": "49f878ba-14b4-496c-92fe-dd57e39b278d",
   "metadata": {},
   "outputs": [
    {
     "name": "stdout",
     "output_type": "stream",
     "text": [
      "+----------+\n",
      "|athlete_id|\n",
      "+----------+\n",
      "|        73|\n",
      "|       107|\n",
      "|       108|\n",
      "|       404|\n",
      "|       583|\n",
      "|       705|\n",
      "|       832|\n",
      "|       846|\n",
      "|       977|\n",
      "|       980|\n",
      "|      1169|\n",
      "|      1173|\n",
      "|      1380|\n",
      "|      1483|\n",
      "|      1554|\n",
      "|      2469|\n",
      "|      2486|\n",
      "|      2511|\n",
      "|      2723|\n",
      "|      2785|\n",
      "+----------+\n",
      "only showing top 20 rows\n",
      "\n"
     ]
    }
   ],
   "source": [
    "athlete_events_processed_df.where(F.col(\"medal\") == \"Gold\")\\\n",
    "    .select(\"athlete_id\", \"season\")\\\n",
    "    .groupBy(\"athlete_id\")\\\n",
    "    .agg(F.count(\"season\").alias(\"season_count_for_gold\"))\\\n",
    "    .where(F.col(\"season_count_for_gold\") == 2).select(\"athlete_id\").orderBy(\"athlete_id\").show()"
   ]
  },
  {
   "cell_type": "markdown",
   "id": "28345d4e-2718-41f8-af33-774d89381bf9",
   "metadata": {},
   "source": [
    "#### find players who won gold, silver and bronze medal in a single olympics. print player name along with year."
   ]
  },
  {
   "cell_type": "code",
   "execution_count": 35,
   "id": "851be38f-96f1-4751-afd4-c20938908fae",
   "metadata": {},
   "outputs": [
    {
     "name": "stdout",
     "output_type": "stream",
     "text": [
      "+--------------------+----+\n",
      "|                name|year|\n",
      "+--------------------+----+\n",
      "|         Karin Seick|1984|\n",
      "|        Sandra Vlker|1996|\n",
      "|\"Jennifer Elisabe...|1996|\n",
      "| Frank Sherman Henry|1948|\n",
      "|       Li Xiaoshuang|1996|\n",
      "|Carly Rae Patters...|2004|\n",
      "|        Enrico Bruna|1906|\n",
      "|Renate Stecher (M...|1972|\n",
      "|Elaine Tanner (-W...|1968|\n",
      "|\"Adrie \"\"Ard\"\" Sc...|1972|\n",
      "|Erika Zuchold (Ba...|1972|\n",
      "|            Yang Wei|2008|\n",
      "|Paul Louis Eugne ...|1920|\n",
      "|Marcel Carlos Pau...|1906|\n",
      "|      Julius Lenhart|1904|\n",
      "|Dara Grace Torres...|2008|\n",
      "|Nikolay Yefimovic...|1972|\n",
      "|        Jon C. Olsen|1992|\n",
      "|Atje Keulen-Deelstra|1972|\n",
      "|\"John \"\"Johnny\"\" ...|2010|\n",
      "+--------------------+----+\n",
      "only showing top 20 rows\n",
      "\n"
     ]
    }
   ],
   "source": [
    "joined_athletes_and_events_df.where(F.col(\"medal\") != \"NA\")\\\n",
    "    .select(\"athlete_id\", \"name\", \"games\", \"medal\")\\\n",
    "    .groupBy(\"athlete_id\", \"name\", \"games\")\\\n",
    "    .agg(F.count(\"medal\").alias(\"medal_count\"))\\\n",
    "    .where(F.col(\"medal_count\") == 3)\\\n",
    "    .withColumn(\"year\", F.substring(F.col(\"games\"), 1, 4))\\\n",
    "    .select(\"name\", \"year\").distinct().show()"
   ]
  },
  {
   "cell_type": "markdown",
   "id": "380fd7fb-b367-4d9d-a609-3a3cc5265ebb",
   "metadata": {},
   "source": [
    "#### find players who have won gold medals in consecutive 3 summer olympics in the same event.\n",
    "###### Consider only olympics 2000 onwards. Assume summer olympics happens every 4 year starting 2000"
   ]
  },
  {
   "cell_type": "code",
   "execution_count": 36,
   "id": "eaccf57b-b951-4ed8-bb68-a375b2ac7e0f",
   "metadata": {},
   "outputs": [
    {
     "name": "stdout",
     "output_type": "stream",
     "text": [
      "+----------+---------------------------------------------+\n",
      "|athlete_id|event                                        |\n",
      "+----------+---------------------------------------------+\n",
      "|11671     |Basketball Women's Basketball                |\n",
      "|19044     |Basketball Women's Basketball                |\n",
      "|70965     |Swimming Men's 4 x 200 metres Freestyle Relay|\n",
      "|94406     |Swimming Men's 200 metres Individual Medley  |\n",
      "|94406     |Swimming Men's 4 x 100 metres Medley Relay   |\n",
      "|94406     |Swimming Men's 4 x 200 metres Freestyle Relay|\n",
      "|118778    |Basketball Women's Basketball                |\n",
      "|131805    |Diving Women's Synchronized Springboard      |\n",
      "+----------+---------------------------------------------+\n",
      "\n"
     ]
    }
   ],
   "source": [
    "cons_year = 3\n",
    "a = 4 * cons_year\n",
    "lead_year = cons_year - 1\n",
    "athlete_events_processed_df.where((F.col(\"year\") >= 2000) & (F.col(\"year\") % 4 == 0) & (F.col(\"season\") == \"Summer\") & (F.col(\"medal\") == \"Gold\"))\\\n",
    "    .withColumn(\"3rd_oly_year\", F.lead(\"year\", cons_year).over(Window.partitionBy(\"athlete_id\", \"event\").orderBy(\"year\")))\\\n",
    "    .where(F.col(\"3rd_oly_year\") == F.col(\"year\") + a)\\\n",
    "    .select(\"athlete_id\", \"event\").distinct().show(truncate=False)"
   ]
  },
  {
   "cell_type": "code",
   "execution_count": 37,
   "id": "b614a7d5-0ea6-4ec0-88b3-506f204885a2",
   "metadata": {},
   "outputs": [],
   "source": [
    "spark.stop()"
   ]
  }
 ],
 "metadata": {
  "kernelspec": {
   "display_name": "Python 3 (ipykernel)",
   "language": "python",
   "name": "python3"
  },
  "language_info": {
   "codemirror_mode": {
    "name": "ipython",
    "version": 3
   },
   "file_extension": ".py",
   "mimetype": "text/x-python",
   "name": "python",
   "nbconvert_exporter": "python",
   "pygments_lexer": "ipython3",
   "version": "3.12.3"
  }
 },
 "nbformat": 4,
 "nbformat_minor": 5
}
