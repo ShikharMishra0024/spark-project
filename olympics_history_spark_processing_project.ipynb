{
 "cells": [
  {
   "cell_type": "markdown",
   "id": "7309af81-2854-40d5-a477-2a53ff55d2a8",
   "metadata": {},
   "source": [
    "## Spark conf"
   ]
  },
  {
   "cell_type": "code",
   "execution_count": 1,
   "id": "c672e845-8740-497a-8453-33bfd31c796c",
   "metadata": {},
   "outputs": [],
   "source": [
    "from pyspark.sql import  SparkSession\n",
    "from pyspark.sql import functions as F\n",
    "from pyspark import SparkConf"
   ]
  },
  {
   "cell_type": "code",
   "execution_count": 20,
   "id": "baddce3e-a9e5-4482-b9ff-0f0dd7e75cb4",
   "metadata": {},
   "outputs": [],
   "source": [
    "from pyspark.sql import Window"
   ]
  },
  {
   "cell_type": "code",
   "execution_count": 2,
   "id": "be5264dc-0fd4-4c75-b9a5-1b2642a89cf2",
   "metadata": {},
   "outputs": [],
   "source": [
    "from pyspark.sql.types import StructType, StructField, StringType, IntegerType"
   ]
  },
  {
   "cell_type": "code",
   "execution_count": 3,
   "id": "f1eb44f1-4d47-461a-86cd-2bf534023964",
   "metadata": {},
   "outputs": [
    {
     "data": {
      "text/plain": [
       "<pyspark.conf.SparkConf at 0x230bd1f2f30>"
      ]
     },
     "execution_count": 3,
     "metadata": {},
     "output_type": "execute_result"
    }
   ],
   "source": [
    "sparkConf = SparkConf()\n",
    "sparkConf.setAll(\n",
    "    [\n",
    "        (\"spark.app.name\", \"olmypics spark app\"),\n",
    "        (\"spark.master\", \"local[3]\")\n",
    "    ]\n",
    ")"
   ]
  },
  {
   "cell_type": "code",
   "execution_count": 4,
   "id": "b3b00919-f7de-4b8e-9a03-00e026b4284a",
   "metadata": {},
   "outputs": [],
   "source": [
    "spark = SparkSession.builder.config(conf=sparkConf).getOrCreate()"
   ]
  },
  {
   "cell_type": "markdown",
   "id": "3c8b7844-0e6b-4cb0-841c-8274a711c741",
   "metadata": {},
   "source": [
    "## Loading data"
   ]
  },
  {
   "cell_type": "code",
   "execution_count": 5,
   "id": "76c8fe59-4418-4214-ad47-370b326227b7",
   "metadata": {},
   "outputs": [],
   "source": [
    "athletesSchema = StructType(\n",
    "    [\n",
    "        StructField(\"id\", IntegerType(), False),\n",
    "        StructField(\"name\", StringType(), False),\n",
    "        StructField(\"sex\", StringType(), False),\n",
    "        StructField(\"height\", IntegerType(), True),\n",
    "        StructField(\"weight\", IntegerType(), True),\n",
    "        StructField(\"team\", StringType(), False)\n",
    "    ]\n",
    ")\n",
    "# id,name,sex,height,weight,team"
   ]
  },
  {
   "cell_type": "code",
   "execution_count": 6,
   "id": "6056270e-5f32-411c-aa53-c1deed289039",
   "metadata": {},
   "outputs": [],
   "source": [
    "athletes_df = spark.read.format(\"csv\").option(\"header\", True).schema(athletesSchema).option(\"enforceSchema\", True).option(\"path\", r\"D:\\SQL telegram\\Project 2 olympic history\\athletes.csv\").load()"
   ]
  },
  {
   "cell_type": "code",
   "execution_count": 7,
   "id": "3f8e8f57-af9a-4722-afa9-4853d5aa7739",
   "metadata": {},
   "outputs": [
    {
     "name": "stdout",
     "output_type": "stream",
     "text": [
      "+---+--------------------------------------+---+------+------+--------------+\n",
      "|id |name                                  |sex|height|weight|team          |\n",
      "+---+--------------------------------------+---+------+------+--------------+\n",
      "|1  |A Dijiang                             |M  |180   |80    |China         |\n",
      "|2  |A Lamusi                              |M  |170   |60    |China         |\n",
      "|3  |Gunnar Nielsen Aaby                   |M  |NULL  |NULL  |Denmark       |\n",
      "|4  |Edgar Lindenau Aabye                  |M  |NULL  |NULL  |Denmark/Sweden|\n",
      "|5  |Christine Jacoba Aaftink              |F  |185   |82    |Netherlands   |\n",
      "|6  |Per Knut Aaland                       |M  |188   |75    |United States |\n",
      "|7  |John Aalberg                          |M  |183   |72    |United States |\n",
      "|8  |\"Cornelia \"\"Cor\"\" Aalten (-Strannood)\"|F  |168   |NULL  |Netherlands   |\n",
      "|9  |Antti Sami Aalto                      |M  |186   |96    |Finland       |\n",
      "|10 |\"Einar Ferdinand \"\"Einari\"\" Aalto\"    |M  |NULL  |NULL  |Finland       |\n",
      "|11 |Jorma Ilmari Aalto                    |M  |182   |NULL  |Finland       |\n",
      "|12 |Jyri Tapani Aalto                     |M  |172   |70    |Finland       |\n",
      "|13 |Minna Maarit Aalto                    |F  |159   |NULL  |Finland       |\n",
      "|14 |Pirjo Hannele Aalto (Mattila-)        |F  |171   |65    |Finland       |\n",
      "|15 |Arvo Ossian Aaltonen                  |M  |NULL  |NULL  |Finland       |\n",
      "|16 |Juhamatti Tapio Aaltonen              |M  |184   |85    |Finland       |\n",
      "|17 |Paavo Johannes Aaltonen               |M  |175   |64    |Finland       |\n",
      "|18 |Timo Antero Aaltonen                  |M  |189   |130   |Finland       |\n",
      "|19 |Win Valdemar Aaltonen                 |M  |NULL  |NULL  |Finland       |\n",
      "|20 |Kjetil Andr Aamodt                    |M  |176   |85    |Norway        |\n",
      "+---+--------------------------------------+---+------+------+--------------+\n",
      "only showing top 20 rows\n",
      "\n"
     ]
    }
   ],
   "source": [
    "athletes_df.show(truncate=False)"
   ]
  },
  {
   "cell_type": "code",
   "execution_count": 8,
   "id": "ef72d9f3-8fdd-411e-a52f-93485d2f6740",
   "metadata": {},
   "outputs": [
    {
     "name": "stdout",
     "output_type": "stream",
     "text": [
      "root\n",
      " |-- id: integer (nullable = true)\n",
      " |-- name: string (nullable = true)\n",
      " |-- sex: string (nullable = true)\n",
      " |-- height: integer (nullable = true)\n",
      " |-- weight: integer (nullable = true)\n",
      " |-- team: string (nullable = true)\n",
      "\n",
      "None\n"
     ]
    },
    {
     "data": {
      "text/plain": [
       "['id', 'name', 'sex', 'height', 'weight', 'team']"
      ]
     },
     "execution_count": 8,
     "metadata": {},
     "output_type": "execute_result"
    }
   ],
   "source": [
    "print(athletes_df.printSchema())\n",
    "athletes_df.columns"
   ]
  },
  {
   "cell_type": "code",
   "execution_count": 9,
   "id": "9a40afba-7835-4f8c-a35a-3d798df62d37",
   "metadata": {
    "scrolled": true
   },
   "outputs": [
    {
     "name": "stdout",
     "output_type": "stream",
     "text": [
      "============================================================================\n",
      "\n",
      "+---------+\n",
      "|total_ids|\n",
      "+---------+\n",
      "|   135571|\n",
      "+---------+\n",
      "\n",
      "None <class 'pyspark.sql.dataframe.DataFrame'>\n",
      "============================================================================\n",
      "\n",
      "+-----------+\n",
      "|total_names|\n",
      "+-----------+\n",
      "|     135571|\n",
      "+-----------+\n",
      "\n",
      "None <class 'pyspark.sql.dataframe.DataFrame'>\n",
      "============================================================================\n",
      "\n",
      "+----------+\n",
      "|total_sexs|\n",
      "+----------+\n",
      "|    135571|\n",
      "+----------+\n",
      "\n",
      "None <class 'pyspark.sql.dataframe.DataFrame'>\n",
      "============================================================================\n",
      "\n",
      "+-------------+\n",
      "|total_heights|\n",
      "+-------------+\n",
      "|       101394|\n",
      "+-------------+\n",
      "\n",
      "None <class 'pyspark.sql.dataframe.DataFrame'>\n",
      "============================================================================\n",
      "\n",
      "+-------------+\n",
      "|total_weights|\n",
      "+-------------+\n",
      "|       100294|\n",
      "+-------------+\n",
      "\n",
      "None <class 'pyspark.sql.dataframe.DataFrame'>\n",
      "============================================================================\n",
      "\n",
      "+-----------+\n",
      "|total_teams|\n",
      "+-----------+\n",
      "|     135476|\n",
      "+-----------+\n",
      "\n",
      "None <class 'pyspark.sql.dataframe.DataFrame'>\n"
     ]
    }
   ],
   "source": [
    "for col in athletes_df.columns:\n",
    "    print(\"============================================================================\\n\")\n",
    "    print(athletes_df.select(col).agg(F.count(col).alias(\"total_\"+col+\"s\")).show(), type(athletes_df.groupBy(F.col(col)).count()))"
   ]
  },
  {
   "cell_type": "code",
   "execution_count": 10,
   "id": "5e4c6025-8f9d-448c-9fc4-6d9a88a8fe26",
   "metadata": {
    "scrolled": true
   },
   "outputs": [
    {
     "name": "stdout",
     "output_type": "stream",
     "text": [
      "+------+--------------------------------------------------------+---------------+------+------+----+\n",
      "|id    |name                                                    |sex            |height|weight|team|\n",
      "+------+--------------------------------------------------------+---------------+------+------+----+\n",
      "|127653|\"Alena \"\"ja\"\" Vrzov (-Zanov                             | -Steindler)\"  |NULL  |NULL  |NULL|\n",
      "|42414 |\"Alexander \"\"Alex\"\" Grant                               | Jr.\"          |NULL  |NULL  |NULL|\n",
      "|123231|\"Alvin Edmund \"\"Al\"\" Ulbrickson                         | Jr.\"          |NULL  |NULL  |NULL|\n",
      "|100754|\"Anthony \"\"Tony\"\" Ries                                  | Jr.\"          |NULL  |NULL  |NULL|\n",
      "|89805 |\"Arnold Carl \"\"Arnie\"\" Oss                              | Jr.\"          |NULL  |NULL  |NULL|\n",
      "|58337 |\"Arthur Hayward \"\"Art\"\" Keay                            | Jr.\"          |NULL  |NULL  |NULL|\n",
      "|71240 |\"Arthur Matthew \"\"Art\"\" Longsjo                         | Jr.\"          |NULL  |NULL  |NULL|\n",
      "|129802|\"August \"\"Gus\"\" Wester                                  | Jr.\"          |NULL  |NULL  |NULL|\n",
      "|57091 |\"August Frederick \"\"Fred\"\" Kammer                       | Jr.\"          |NULL  |NULL  |NULL|\n",
      "|67594 |\"Benjamin \"\"Ben\"\" Lear                                  | Jr.\"          |NULL  |NULL  |NULL|\n",
      "|77775 |\"Bernard Joseph \"\"Benny\"\" McLaughlin                    | Jr.\"          |NULL  |NULL  |NULL|\n",
      "|92157 |\"Carlton Hutton \"\"Carl\"\" Paul                           | Jr.\"          |NULL  |NULL  |NULL|\n",
      "|46984 |\"Catherine Ann \"\"Cathy\"\" Hearn (-Haller                 | -Roethenmund)\"|NULL  |NULL  |NULL|\n",
      "|50224 |\"Charles Gordon \"\"Champ\"\" Hough                         | Jr.\"          |NULL  |NULL  |NULL|\n",
      "|71046 |\"Charles Paul \"\"Charlie\"\" Logg                          | Jr.\"          |NULL  |NULL  |NULL|\n",
      "|29072 |\"Charles Webster \"\"Charlie\"\" Doe                        | Jr.\"          |NULL  |173   |NULL|\n",
      "|23625 |\"Clarence Linden \"\"Buster\"\" Crabbe                      | Jr.\"          |NULL  |NULL  |NULL|\n",
      "|65786 |\"Cornelia \"\"Corrie\"\" Ladd (-Voogd                       | -Bakhuizen)\"  |NULL  |175   |NULL|\n",
      "|8168  |\"Daniel Hubert \"\"Dan\"\" Barrow                           | Jr.\"          |NULL  |NULL  |NULL|\n",
      "|15625 |\"David Greig \"\"Skippy\"\" Browning                        | Jr.\"          |NULL  |NULL  |NULL|\n",
      "|108615|\"Dina Willemina Jacoba \"\"Nida\"\" Senff (-Scheffer        | -Couturier)\"  |NULL  |NULL  |NULL|\n",
      "|30757 |\"Donald Victor \"\"Don\"\" Dupree                           | Sr.\"          |NULL  |NULL  |NULL|\n",
      "|29682 |\"Donald Willis \"\"Don\"\" Douglas                          | Jr.\"          |NULL  |NULL  |NULL|\n",
      "|115073|\"Edward Glenister \"\"Ed\"\" Stevens                        | Jr.\"          |NULL  |NULL  |NULL|\n",
      "|39550 |\"Edward Nicholas \"\"Ed Don\"\" George                      | Jr.\"          |NULL  |NULL  |NULL|\n",
      "|80402 |\"Edward Paul \"\"Ed\"\" Mitchell                            | Jr.\"          |NULL  |NULL  |NULL|\n",
      "|15238 |\"Ella Gertrud Auguste \"\"Ellen\"\" Brockhft (Rehra-        | -Henseler)\"   |NULL  |NULL  |NULL|\n",
      "|77426 |\"Ernest John \"\"Ernie\"\" McCullough                       | Jr.\"          |NULL  |NULL  |NULL|\n",
      "|29401 |\"Euphrasia Louise \"\"Fraze\"\" Donnelly (-Bungard          | -Berlin)\"     |NULL  |163   |NULL|\n",
      "|85217 |\"Francis Augustus \"\"Frank\"\" Nelson                      | Jr.\"          |NULL  |NULL  |NULL|\n",
      "|51430 |\"Frank William \"\"Dick\"\" Hyland                          | Jr.\"          |NULL  |NULL  |NULL|\n",
      "|60521 |\"Frederick John \"\"Fred\"\" Kingsbury                      | IV\"           |NULL  |NULL  |NULL|\n",
      "|36396 |\"Frederick Joseph \"\"Fred\"\" Fortune                      | Jr.\"          |NULL  |NULL  |NULL|\n",
      "|72842 |\"Frederick William \"\"Fred\"\" Macbeth                     | Jr.\"          |NULL  |NULL  |NULL|\n",
      "|16527 |\"Friederike \"\"Fritzi\"\" Burger (-Nishikawa-              | -Russell)\"    |NULL  |157   |NULL|\n",
      "|88379 |\"George Cornelius \"\"Con\"\" O'Kelly                       | Jr.\"          |NULL  |NULL  |NULL|\n",
      "|51060 |\"George Elwood \"\"Shorty\"\" Hunt                          | Jr.\"          |NULL  |195   |NULL|\n",
      "|22374 |\"Gilbert Bayard \"\"Gil\"\" Colgate                         | Jr.\"          |NULL  |NULL  |NULL|\n",
      "|115842|\"Harley de Witt \"\"Doc\"\" Strong                          | Jr.\"          |NULL  |NULL  |NULL|\n",
      "|114938|\"Hedwig \"\"Hedy\"\" Stenuf (-Perry-Smith                   | -Byram)\"      |NULL  |NULL  |NULL|\n",
      "|76268 |\"Hendrika Wilhelmina \"\"Rie\"\" Mastenbroek (-Kuiper       | -de Wit)\"     |NULL  |NULL  |NULL|\n",
      "|108293|\"Idella Thrasher \"\"Della\"\" Sehorn (Thrasher-            | -Moore)\"      |NULL  |NULL  |NULL|\n",
      "|8822  |\"Ingeborg \"\"Inge\"\" Bausenwein (Wolf-                    | Plank-)\"      |NULL  |NULL  |NULL|\n",
      "|23847 |\"James Crapo \"\"Jim\"\" Cristy                             | Jr.\"          |NULL  |NULL  |NULL|\n",
      "|79962 |\"James G. \"\"Jim\"\" Millns                                | Jr.\"          |NULL  |NULL  |NULL|\n",
      "|11313 |\"James John \"\"Jim\"\" Bickford                            | Jr.\"          |NULL  |NULL  |NULL|\n",
      "|81546 |\"James Peter \"\"Jimmy\"\" Montgomery                       | III\"          |NULL  |NULL  |NULL|\n",
      "|77769 |\"James Price \"\"Jimmy\"\" McLane                           | Jr.\"          |NULL  |NULL  |NULL|\n",
      "|58648 |\"James Wasson \"\"Jimmy\"\" Kempe                           | Jr.\"          |NULL  |NULL  |NULL|\n",
      "|129576|\"Jean \"\"Jeannot\"\" Welter                                | Jr.\"          |NULL  |NULL  |NULL|\n",
      "|107412|\"Johann \"\"Hans\"\" Schnbaumsfeld                          | Jr.\"          |NULL  |NULL  |NULL|\n",
      "|42260 |\"Johanna \"\"Hanna\"\" Grages (Beth-                        | -Zuschneid)\"  |NULL  |NULL  |NULL|\n",
      "|124592|\"Johannes Jacobus \"\"Jo\"\" van Gastel                     | Jr.\"          |NULL  |NULL  |NULL|\n",
      "|58597 |\"John Brenden \"\"Jack\"\" Kelly                            | Sr.\"          |NULL  |187   |NULL|\n",
      "|100868|\"John Patrick \"\"Jack\"\" Riley                            | Jr.\"          |NULL  |NULL  |NULL|\n",
      "|103259|\"Joseph Aloysius \"\"Joe\"\" Ruddy                          | Sr.\"          |NULL  |NULL  |NULL|\n",
      "|131734|\"Joseph Walter Harris \"\"Joe\"\" Wright                    | Jr.\"          |NULL  |NULL  |NULL|\n",
      "|77903 |\"Kathleen Mavis \"\"Kay\"\" McNamee (-Ferguson              | -Neale)\"      |NULL  |NULL  |NULL|\n",
      "|78957 |\"Leland Gilbert \"\"Lee\"\" Merrill                         | Jr.\"          |NULL  |NULL  |NULL|\n",
      "|2893  |\"Lieselotte \"\"Lilo\"\" Anni Allgayer (Deutzer-            | -Knig)\"       |NULL  |NULL  |NULL|\n",
      "|93881 |\"Lovise Kristine \"\"Louise\"\" Petersen (-Riisbek          | -Brandt)\"     |NULL  |NULL  |NULL|\n",
      "|19598 |\"Malcolm Heribert \"\"Harry\"\" Challstorp (Kjellstorp-     | -Chellstorp)\" |NULL  |183   |NULL|\n",
      "|3957  |\"Martha Louise \"\"Mrta\"\" Andersson (-Ingemansson         | -Karlsson)\"   |NULL  |NULL  |NULL|\n",
      "|58728 |\"Michael Edward \"\"Peter\"\" Kennedy                       | III\"          |NULL  |NULL  |NULL|\n",
      "|96774 |\"Myra Abigail \"\"Abbie\"\" Pratt (Pankhurst-               | Wright-       |NULL  |NULL  |NULL|\n",
      "|127281|\"Nils Gustaf Fredrik Bror \"\"Hans\"\" von Blixen-Finecke   | Jr.\"          |NULL  |NULL  |NULL|\n",
      "|30518 |\"Pamela Camille \"\"Pam\"\" Dukes (-Boyer                   | -Brown)\"      |NULL  |NULL  |NULL|\n",
      "|95240 |\"Penelope Theresa \"\"Penny\"\" Pitou (-Zimmermann          | -Pike)\"       |NULL  |NULL  |NULL|\n",
      "|129713|\"Petrus Adrianus \"\"Piet\"\" Wernink                       | Jr.\"          |NULL  |NULL  |NULL|\n",
      "|42064 |\"Philippa Mary \"\"Pip\"\" Gould (-Lindberg                 | -Gower)\"      |NULL  |NULL  |NULL|\n",
      "|14059 |\"Pieter \"\"Piet\"\" Bouman                                 | Jr.\"          |NULL  |NULL  |NULL|\n",
      "|21828 |\"Raymond Gordon \"\"Ray\"\" Clark                           | Jr.\"          |NULL  |NULL  |NULL|\n",
      "|30856 |\"Richard Henry \"\"Dick\"\" Durrance                        | Jr.\"          |NULL  |NULL  |NULL|\n",
      "|130584|\"Richard Norris \"\"Dick\"\" Williams                       | III\"          |NULL  |182   |NULL|\n",
      "|1533  |\"Robert \"\"Bobby\"\" Aitken                                | Jr.\"          |NULL  |NULL  |NULL|\n",
      "|134241|\"Robert Daniel \"\"Dan\"\" Zehr                             | Sr.\"          |NULL  |NULL  |NULL|\n",
      "|50059 |\"Rufus William Landon \"\"Bill\"\" Horton                   | Sr.\"          |NULL  |NULL  |NULL|\n",
      "|33554 |\"Samuel Evans \"\"Sam\"\" Ewing                             | Jr.\"          |NULL  |NULL  |NULL|\n",
      "|96950 |\"Simeon Taylor \"\"Sim\"\" Price                            | Jr.\"          |NULL  |NULL  |NULL|\n",
      "|34179 |\"Theodore Austin \"\"Ted\"\" Farwell                        | Jr.\"          |NULL  |NULL  |NULL|\n",
      "|48856 |\"Thomas \"\"Tommy\"\" Hitchcock                             | Jr.\"          |NULL  |178   |NULL|\n",
      "|29073 |\"Thomas Bartwell \"\"Tom\"\" Doe                            | Jr.\"          |NULL  |NULL  |NULL|\n",
      "|22702 |\"Thomas Francis \"\"Tom\"\" Connolly                        | Jr.\"          |NULL  |NULL  |NULL|\n",
      "|106139|\"Thomas Vincent Claude \"\"Sandy\"\" Saunders               | Sr.\"          |NULL  |NULL  |NULL|\n",
      "|8860  |\"Virginia Day \"\"Ginny\"\" Baxter (-McKendrick             | -Newman)\"     |NULL  |NULL  |NULL|\n",
      "|12773 |\"Wilhelm \"\"Willy\"\" Bogner                               | Sr.\"          |NULL  |NULL  |NULL|\n",
      "|26769 |\"Willem \"\"Wim\"\" de Vries Lentsch                        | Jr.\"          |NULL  |NULL  |NULL|\n",
      "|69647 |\"William A. \"\"Bill\"\" Libbey                             | III\"          |NULL  |NULL  |NULL|\n",
      "|101914|\"William Henry \"\"Bill\"\" Roetzheim                       | Jr.\"          |NULL  |NULL  |NULL|\n",
      "|35595 |\"William Mead Lindsley \"\"Billy\"\" Fiske                  | III\"          |NULL  |NULL  |NULL|\n",
      "|112198|\"William Melvin \"\"Bill\"\" Smith                          | Jr.\"          |NULL  |NULL  |NULL|\n",
      "|92583 |\"William Thomas \"\"Bill\"\" Pecora                         | II\"           |NULL  |NULL  |NULL|\n",
      "|46152 |\"William White \"\"Bill\"\" Harris                          | Jr.\"          |NULL  |NULL  |NULL|\n",
      "|48327 |\"William Wilder \"\"Bill\"\" Heusner                        | Jr.\"          |NULL  |NULL  |NULL|\n",
      "|41785 |\"Yekaterina Aleksandrovna \"\"Katya\"\" Gordeyeva (-Grinkova| -Kulik)\"      |NULL  |NULL  |NULL|\n",
      "+------+--------------------------------------------------------+---------------+------+------+----+\n",
      "\n"
     ]
    }
   ],
   "source": [
    "athletes_df.filter(\"team is null\").orderBy(\"name\", \"id\").show(10000, truncate=False)\n",
    "# no team name, sex, height and only a few weight data - > remove these nan values"
   ]
  },
  {
   "cell_type": "code",
   "execution_count": 11,
   "id": "35b87cb1-1be3-4a85-85b1-d38156718b1f",
   "metadata": {},
   "outputs": [],
   "source": [
    "athletes_processed_df = athletes_df.filter(\"team is not null\")"
   ]
  },
  {
   "cell_type": "code",
   "execution_count": 12,
   "id": "2a4daa79-a8d1-4197-a5dc-092f2380b8eb",
   "metadata": {
    "scrolled": true
   },
   "outputs": [
    {
     "name": "stdout",
     "output_type": "stream",
     "text": [
      "+---+--------------------------------------+---+------+------+--------------+\n",
      "|id |name                                  |sex|height|weight|team          |\n",
      "+---+--------------------------------------+---+------+------+--------------+\n",
      "|1  |A Dijiang                             |M  |180   |80    |China         |\n",
      "|2  |A Lamusi                              |M  |170   |60    |China         |\n",
      "|3  |Gunnar Nielsen Aaby                   |M  |NULL  |NULL  |Denmark       |\n",
      "|4  |Edgar Lindenau Aabye                  |M  |NULL  |NULL  |Denmark/Sweden|\n",
      "|5  |Christine Jacoba Aaftink              |F  |185   |82    |Netherlands   |\n",
      "|6  |Per Knut Aaland                       |M  |188   |75    |United States |\n",
      "|7  |John Aalberg                          |M  |183   |72    |United States |\n",
      "|8  |\"Cornelia \"\"Cor\"\" Aalten (-Strannood)\"|F  |168   |NULL  |Netherlands   |\n",
      "|9  |Antti Sami Aalto                      |M  |186   |96    |Finland       |\n",
      "|10 |\"Einar Ferdinand \"\"Einari\"\" Aalto\"    |M  |NULL  |NULL  |Finland       |\n",
      "|11 |Jorma Ilmari Aalto                    |M  |182   |NULL  |Finland       |\n",
      "|12 |Jyri Tapani Aalto                     |M  |172   |70    |Finland       |\n",
      "|13 |Minna Maarit Aalto                    |F  |159   |NULL  |Finland       |\n",
      "|14 |Pirjo Hannele Aalto (Mattila-)        |F  |171   |65    |Finland       |\n",
      "|15 |Arvo Ossian Aaltonen                  |M  |NULL  |NULL  |Finland       |\n",
      "|16 |Juhamatti Tapio Aaltonen              |M  |184   |85    |Finland       |\n",
      "|17 |Paavo Johannes Aaltonen               |M  |175   |64    |Finland       |\n",
      "|18 |Timo Antero Aaltonen                  |M  |189   |130   |Finland       |\n",
      "|19 |Win Valdemar Aaltonen                 |M  |NULL  |NULL  |Finland       |\n",
      "|20 |Kjetil Andr Aamodt                    |M  |176   |85    |Norway        |\n",
      "+---+--------------------------------------+---+------+------+--------------+\n",
      "only showing top 20 rows\n",
      "\n"
     ]
    }
   ],
   "source": [
    "athletes_processed_df.show(truncate=False)"
   ]
  },
  {
   "cell_type": "code",
   "execution_count": 13,
   "id": "995cbc62-5e7d-46b0-8791-22d8ae3998c5",
   "metadata": {},
   "outputs": [],
   "source": [
    "athlete_events_df = spark.read.format(\"csv\").option(\"header\", True).option(\"inferSchema\", True).option(\"path\", r\"D:\\SQL telegram\\Project 2 olympic history\\athlete_events.csv\").load()"
   ]
  },
  {
   "cell_type": "code",
   "execution_count": 14,
   "id": "70dbd095-40dc-41c3-8750-8c0172a7b2c4",
   "metadata": {
    "scrolled": true
   },
   "outputs": [
    {
     "name": "stdout",
     "output_type": "stream",
     "text": [
      "root\n",
      " |-- athlete_id: integer (nullable = true)\n",
      " |-- games: string (nullable = true)\n",
      " |-- year: integer (nullable = true)\n",
      " |-- season: string (nullable = true)\n",
      " |-- city: string (nullable = true)\n",
      " |-- sport: string (nullable = true)\n",
      " |-- event: string (nullable = true)\n",
      " |-- medal: string (nullable = true)\n",
      "\n"
     ]
    }
   ],
   "source": [
    "athlete_events_df.printSchema()"
   ]
  },
  {
   "cell_type": "code",
   "execution_count": 15,
   "id": "7392032c-62d5-4720-90df-675cee1a78f1",
   "metadata": {
    "scrolled": true
   },
   "outputs": [
    {
     "name": "stdout",
     "output_type": "stream",
     "text": [
      "=================================================\n",
      "\n",
      "+----------------+\n",
      "|athlete_id_count|\n",
      "+----------------+\n",
      "|          271116|\n",
      "+----------------+\n",
      "\n",
      "None\n",
      "=================================================\n",
      "\n",
      "+-----------+\n",
      "|games_count|\n",
      "+-----------+\n",
      "|     271116|\n",
      "+-----------+\n",
      "\n",
      "None\n",
      "=================================================\n",
      "\n",
      "+----------+\n",
      "|year_count|\n",
      "+----------+\n",
      "|    271116|\n",
      "+----------+\n",
      "\n",
      "None\n",
      "=================================================\n",
      "\n",
      "+------------+\n",
      "|season_count|\n",
      "+------------+\n",
      "|      271116|\n",
      "+------------+\n",
      "\n",
      "None\n",
      "=================================================\n",
      "\n",
      "+----------+\n",
      "|city_count|\n",
      "+----------+\n",
      "|    271116|\n",
      "+----------+\n",
      "\n",
      "None\n",
      "=================================================\n",
      "\n",
      "+-----------+\n",
      "|sport_count|\n",
      "+-----------+\n",
      "|     271116|\n",
      "+-----------+\n",
      "\n",
      "None\n",
      "=================================================\n",
      "\n",
      "+-----------+\n",
      "|event_count|\n",
      "+-----------+\n",
      "|     271116|\n",
      "+-----------+\n",
      "\n",
      "None\n",
      "=================================================\n",
      "\n",
      "+-----------+\n",
      "|medal_count|\n",
      "+-----------+\n",
      "|     271116|\n",
      "+-----------+\n",
      "\n",
      "None\n"
     ]
    }
   ],
   "source": [
    "for col in athlete_events_df.columns:\n",
    "    print(\"=================================================\\n\")\n",
    "    print(athlete_events_df.agg(F.count(F.col(col)).alias(col+\"_count\")).show())"
   ]
  },
  {
   "cell_type": "code",
   "execution_count": 16,
   "id": "52cd079e-6076-4079-9f16-41948e5d2c9c",
   "metadata": {
    "scrolled": true
   },
   "outputs": [
    {
     "name": "stdout",
     "output_type": "stream",
     "text": [
      "+----------+-----------+----+------+-----------+--------------------+--------------------+-----+\n",
      "|athlete_id|      games|year|season|       city|               sport|               event|medal|\n",
      "+----------+-----------+----+------+-----------+--------------------+--------------------+-----+\n",
      "|         1|1992 Summer|1992|Summer|  Barcelona|          Basketball|Basketball Men's ...|   NA|\n",
      "|         2|2012 Summer|2012|Summer|     London|                Judo|Judo Men's Extra-...|   NA|\n",
      "|         3|1920 Summer|1920|Summer|  Antwerpen|            Football|Football Men's Fo...|   NA|\n",
      "|         4|1900 Summer|1900|Summer|      Paris|          Tug-Of-War|Tug-Of-War Men's ...| Gold|\n",
      "|         5|1988 Winter|1988|Winter|    Calgary|       Speed Skating|Speed Skating Wom...|   NA|\n",
      "|         5|1988 Winter|1988|Winter|    Calgary|       Speed Skating|Speed Skating Wom...|   NA|\n",
      "|         5|1992 Winter|1992|Winter|Albertville|       Speed Skating|Speed Skating Wom...|   NA|\n",
      "|         5|1992 Winter|1992|Winter|Albertville|       Speed Skating|Speed Skating Wom...|   NA|\n",
      "|         5|1994 Winter|1994|Winter|Lillehammer|       Speed Skating|Speed Skating Wom...|   NA|\n",
      "|         5|1994 Winter|1994|Winter|Lillehammer|       Speed Skating|Speed Skating Wom...|   NA|\n",
      "|         6|1992 Winter|1992|Winter|Albertville|Cross Country Skiing|Cross Country Ski...|   NA|\n",
      "|         6|1992 Winter|1992|Winter|Albertville|Cross Country Skiing|Cross Country Ski...|   NA|\n",
      "|         6|1992 Winter|1992|Winter|Albertville|Cross Country Skiing|Cross Country Ski...|   NA|\n",
      "|         6|1992 Winter|1992|Winter|Albertville|Cross Country Skiing|Cross Country Ski...|   NA|\n",
      "|         6|1994 Winter|1994|Winter|Lillehammer|Cross Country Skiing|Cross Country Ski...|   NA|\n",
      "|         6|1994 Winter|1994|Winter|Lillehammer|Cross Country Skiing|Cross Country Ski...|   NA|\n",
      "|         6|1994 Winter|1994|Winter|Lillehammer|Cross Country Skiing|Cross Country Ski...|   NA|\n",
      "|         6|1994 Winter|1994|Winter|Lillehammer|Cross Country Skiing|Cross Country Ski...|   NA|\n",
      "|         7|1992 Winter|1992|Winter|Albertville|Cross Country Skiing|Cross Country Ski...|   NA|\n",
      "|         7|1992 Winter|1992|Winter|Albertville|Cross Country Skiing|Cross Country Ski...|   NA|\n",
      "+----------+-----------+----+------+-----------+--------------------+--------------------+-----+\n",
      "only showing top 20 rows\n",
      "\n"
     ]
    }
   ],
   "source": [
    "athlete_events_df.show()"
   ]
  },
  {
   "cell_type": "markdown",
   "id": "40de6f39-5d67-414f-9bfe-c080de24170e",
   "metadata": {},
   "source": [
    "## Processing"
   ]
  },
  {
   "cell_type": "markdown",
   "id": "9b737405-9c55-4194-8e0d-5f259fe5a9c0",
   "metadata": {},
   "source": [
    "### which team has won the maximum gold medals over the years."
   ]
  },
  {
   "cell_type": "code",
   "execution_count": 17,
   "id": "ab820c97-54c9-4184-91fa-d15e9e9d9f4e",
   "metadata": {},
   "outputs": [],
   "source": [
    "joined_athletes_and_events_df = athlete_events_df.join(athletes_processed_df, athletes_processed_df.id==athlete_events_df.athlete_id, \"right\")"
   ]
  },
  {
   "cell_type": "code",
   "execution_count": 37,
   "id": "fb8f4958-37a3-4773-a362-54ec791f9f0d",
   "metadata": {},
   "outputs": [
    {
     "data": {
      "text/plain": [
       "DataFrame[athlete_id: int, games: string, year: int, season: string, city: string, sport: string, event: string, medal: string, id: int, name: string, sex: string, height: int, weight: int, team: string]"
      ]
     },
     "execution_count": 37,
     "metadata": {},
     "output_type": "execute_result"
    }
   ],
   "source": [
    "joined_athletes_and_events_df.cache()"
   ]
  },
  {
   "cell_type": "code",
   "execution_count": 18,
   "id": "aa7f586d-422f-4d13-80b9-9130c24af283",
   "metadata": {
    "scrolled": true
   },
   "outputs": [
    {
     "name": "stdout",
     "output_type": "stream",
     "text": [
      "+-------------+-----------+\n",
      "|         team|medal_count|\n",
      "+-------------+-----------+\n",
      "|United States|       5131|\n",
      "| Soviet Union|       2604|\n",
      "|      Germany|       1887|\n",
      "|Great Britain|       1698|\n",
      "|       France|       1558|\n",
      "+-------------+-----------+\n",
      "\n"
     ]
    }
   ],
   "source": [
    "joined_athletes_and_events_df.select(\"team\", \"medal\").filter(F.col(\"medal\") != \"NA\").groupBy(\"team\").agg(F.count(\"medal\").alias(\"medal_count\")).orderBy(F.col(\"medal_count\").desc()).limit(5).show()"
   ]
  },
  {
   "cell_type": "code",
   "execution_count": 30,
   "id": "32cbdd80-bf37-4684-91a4-625562c7a819",
   "metadata": {},
   "outputs": [
    {
     "name": "stdout",
     "output_type": "stream",
     "text": [
      "3\n",
      "2\n",
      "3\n"
     ]
    }
   ],
   "source": [
    "print(athlete_events_df.rdd.getNumPartitions())\n",
    "print(athletes_processed_df.rdd.getNumPartitions())\n",
    "print(joined_athletes_and_events_df.rdd.getNumPartitions())"
   ]
  },
  {
   "cell_type": "code",
   "execution_count": 19,
   "id": "587023a5-efff-4e03-8d53-8e57e26974d7",
   "metadata": {},
   "outputs": [],
   "source": [
    "### for each team print total silver medals and year in which they won maximum silver medal..output 3 columns\n",
    "# team,total_silver_medals, year_of_max_silver"
   ]
  },
  {
   "cell_type": "code",
   "execution_count": 21,
   "id": "72991c8c-c55a-49c7-8ab7-94117aea93b3",
   "metadata": {},
   "outputs": [],
   "source": [
    "year_of_max_silver_wind = Window.partitionBy(\"team\").orderBy(F.desc(\"silver_medal_count\"))"
   ]
  },
  {
   "cell_type": "code",
   "execution_count": 23,
   "id": "bb9ea3ba-2c26-4084-b0e7-5b7049897a86",
   "metadata": {},
   "outputs": [],
   "source": [
    "team_wise_silver_df = joined_athletes_and_events_df.select(\"team\", \"year\", \"medal\")\\\n",
    "    .filter(F.col(\"medal\") == \"Silver\")\\\n",
    "    .groupBy(\"team\", \"year\")\\\n",
    "    .agg(F.count(\"medal\").alias(\"silver_medal_count\"))\\\n",
    "    .withColumn(\"year_of_max_silver\", F.first_value(\"year\").over(year_of_max_silver_wind))\\\n",
    "    .groupBy(\"team\")\\\n",
    "    .agg(F.sum(\"silver_medal_count\").alias(\"total_silver_medals\"), F.min(\"year_of_max_silver\").alias(\"year_of_max_silver\"))"
   ]
  },
  {
   "cell_type": "code",
   "execution_count": 27,
   "id": "2e069ba1-a9c0-437c-90d7-89a73bba055f",
   "metadata": {},
   "outputs": [
    {
     "name": "stdout",
     "output_type": "stream",
     "text": [
      "+--------------+-------------------+------------------+\n",
      "|team          |total_silver_medals|year_of_max_silver|\n",
      "+--------------+-------------------+------------------+\n",
      "|United States |1507               |1984              |\n",
      "|Soviet Union  |766                |1980              |\n",
      "|Germany       |603                |1936              |\n",
      "|Great Britain |590                |1908              |\n",
      "|France        |524                |1920              |\n",
      "|Italy         |507                |2016              |\n",
      "|Sweden        |479                |1912              |\n",
      "|Australia     |453                |2004              |\n",
      "|Canada        |405                |1984              |\n",
      "|China         |332                |1996              |\n",
      "|Norway        |330                |1920              |\n",
      "|Hungary       |329                |1972              |\n",
      "|East Germany  |325                |1980              |\n",
      "|Netherlands   |319                |2004              |\n",
      "|Japan         |307                |2012              |\n",
      "|Russia        |291                |2000              |\n",
      "|Finland       |263                |2006              |\n",
      "|Spain         |242                |2008              |\n",
      "|Czechoslovakia|234                |1964              |\n",
      "|South Korea   |223                |1996              |\n",
      "+--------------+-------------------+------------------+\n",
      "only showing top 20 rows\n",
      "\n"
     ]
    }
   ],
   "source": [
    "team_wise_silver_df.orderBy(F.desc(\"total_silver_medals\")).show(truncate=False)"
   ]
  },
  {
   "cell_type": "code",
   "execution_count": 39,
   "id": "a6923f85-c4cd-4af9-a39e-2344508c1339",
   "metadata": {},
   "outputs": [],
   "source": [
    "# which player has won maximum gold medals  amongst the players \n",
    "# which have won only gold medal (never won silver or bronze) over the years"
   ]
  },
  {
   "cell_type": "code",
   "execution_count": 47,
   "id": "1fa5a0d7-daba-4394-97da-97dae4ea663e",
   "metadata": {},
   "outputs": [],
   "source": [
    "athlete_with_silver_or_bronze = athlete_events_df.where(F.col(\"medal\").isin(\"Silver\", \"Bronze\")).select(\"athlete_id\")"
   ]
  },
  {
   "cell_type": "code",
   "execution_count": null,
   "id": "03ba48f0-c128-4d59-9a8b-f6bf13323038",
   "metadata": {},
   "outputs": [],
   "source": [
    "result = athlete_with_silver_or_bronze.collect()\n",
    "temp = set([result[i].asDict()[\"athlete_id\"] for i in range(len(result))])"
   ]
  },
  {
   "cell_type": "code",
   "execution_count": 94,
   "id": "97d8b35b-9c3f-43c1-aaf2-bcd8cb188306",
   "metadata": {
    "scrolled": true
   },
   "outputs": [],
   "source": [
    "athlete_with_gold_only = athlete_events_df.select(\"athlete_id\", \"medal\")\\\n",
    "    .where((F.col(\"medal\") == \"Gold\") & (~F.col(\"athlete_id\").isin(temp)))"
   ]
  },
  {
   "cell_type": "code",
   "execution_count": 97,
   "id": "286fbc12-7e56-49ad-9baa-7699e4bdda56",
   "metadata": {},
   "outputs": [
    {
     "data": {
      "text/plain": [
       "DataFrame[athlete_id: int, medal: string]"
      ]
     },
     "execution_count": 97,
     "metadata": {},
     "output_type": "execute_result"
    }
   ],
   "source": [
    "athlete_with_gold_only.cache()"
   ]
  },
  {
   "cell_type": "code",
   "execution_count": 95,
   "id": "803ed9ab-f58b-4c91-9677-e0f970a5350d",
   "metadata": {},
   "outputs": [],
   "source": [
    "athlete_with_max_gold_over_years = athlete_with_gold_only.groupBy(\"athlete_id\").agg(F.count(\"medal\").alias(\"gold_count\")).orderBy(F.desc(\"gold_count\")).limit(3)"
   ]
  },
  {
   "cell_type": "code",
   "execution_count": 103,
   "id": "74cff253-0632-48c8-b64a-349f98cac706",
   "metadata": {},
   "outputs": [
    {
     "name": "stdout",
     "output_type": "stream",
     "text": [
      "+----------+----------+\n",
      "|athlete_id|gold_count|\n",
      "+----------+----------+\n",
      "|     33557|        10|\n",
      "|     13029|         8|\n",
      "|     84026|         6|\n",
      "+----------+----------+\n",
      "\n"
     ]
    }
   ],
   "source": [
    "athlete_with_max_gold_over_years.show()"
   ]
  },
  {
   "cell_type": "code",
   "execution_count": null,
   "id": "2ab86a20-72e1-43f3-97b5-289c6e38ee16",
   "metadata": {},
   "outputs": [],
   "source": []
  },
  {
   "cell_type": "code",
   "execution_count": null,
   "id": "0709a6ce-d7f4-4173-b113-21dac98c22c6",
   "metadata": {},
   "outputs": [],
   "source": [
    "# in each year which player has won maximum gold medal . Write a query to print year,player name \n",
    "# and no of golds won in that year . In case of a tie print comma separated player names.\n"
   ]
  },
  {
   "cell_type": "code",
   "execution_count": 104,
   "id": "6f8eee93-172d-4bd2-bac4-11d57f1b4158",
   "metadata": {},
   "outputs": [],
   "source": [
    "spark.stop()"
   ]
  }
 ],
 "metadata": {
  "kernelspec": {
   "display_name": "Python 3 (ipykernel)",
   "language": "python",
   "name": "python3"
  },
  "language_info": {
   "codemirror_mode": {
    "name": "ipython",
    "version": 3
   },
   "file_extension": ".py",
   "mimetype": "text/x-python",
   "name": "python",
   "nbconvert_exporter": "python",
   "pygments_lexer": "ipython3",
   "version": "3.12.3"
  }
 },
 "nbformat": 4,
 "nbformat_minor": 5
}
